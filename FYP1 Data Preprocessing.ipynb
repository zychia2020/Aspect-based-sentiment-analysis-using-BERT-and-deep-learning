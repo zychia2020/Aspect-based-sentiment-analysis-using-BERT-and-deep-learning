{
 "cells": [
  {
   "cell_type": "code",
   "execution_count": 1,
   "id": "e0948568",
   "metadata": {},
   "outputs": [],
   "source": [
    "import pandas as pd\n",
    "import numpy as np\n",
    "import matplotlib.pyplot as plt\n",
    "import seaborn as sns"
   ]
  },
  {
   "cell_type": "code",
   "execution_count": 2,
   "id": "d0f3a363",
   "metadata": {},
   "outputs": [],
   "source": [
    "import pandas as pd"
   ]
  },
  {
   "cell_type": "code",
   "execution_count": 3,
   "id": "dc2c9495",
   "metadata": {},
   "outputs": [],
   "source": [
    "#SemEval 2014 laptop dataset\n",
    "csv_path = 'CsvFile/'\n",
    "\n",
    "df_laptop_test = pd.read_csv(csv_path + \"laptop_2014_test.csv\")\n",
    "df_laptop_train = pd.read_csv(csv_path + \"laptop_2014_train.csv\")\n",
    "\n",
    "#SemEval 2014 restaurant dataset\n",
    "df_restaurant_test = pd.read_csv(csv_path + \"restaurant_2014_test.csv\")\n",
    "df_restaurant_train = pd.read_csv(csv_path + \"restaurant_2014_train.csv\")\n",
    "\n",
    "#SemEval 2015 restaurant dataset\n",
    "df_restaurant_test_15 = pd.read_csv(csv_path + \"2015_restaurant_test.csv\")\n",
    "df_restaurant_train_15 = pd.read_csv(csv_path + \"2015_restaurant_train.csv\")\n",
    "\n",
    "\n",
    "#Sentihood dataset\n",
    "df_sentihood_dev = pd.read_csv(csv_path + \"sentihood-dev.csv\")\n",
    "df_sentihood_test = pd.read_csv(csv_path + \"sentihood-test.csv\")\n",
    "df_sentihood_train = pd.read_csv(csv_path + \"sentihood-train.csv\")\n",
    "\n",
    "# MEMD dataset\n",
    "memd_book_dev = pd.read_csv(csv_path + \"memd_book_Dev.csv\")\n",
    "memd_book_test = pd.read_csv(csv_path + \"memd_book_Test.csv\")\n",
    "memd_book_train = pd.read_csv(csv_path + \"memd_book_Train.csv\")\n",
    "\n",
    "memd_clothing_dev = pd.read_csv(csv_path + \"memd_clothing_Dev.csv\")\n",
    "memd_clothing_test = pd.read_csv(csv_path + \"memd_clothing_Test.csv\")\n",
    "memd_clothing_train = pd.read_csv(csv_path + \"memd_clothing_Train.csv\")\n",
    "\n",
    "memd_hotel_dev = pd.read_csv(csv_path + \"memd_hotel_Dev.csv\")\n",
    "memd_hotel_test = pd.read_csv(csv_path + \"memd_hotel_Test.csv\")\n",
    "memd_hotel_train = pd.read_csv(csv_path + \"memd_hotel_Train.csv\")\n",
    "\n",
    "memd_laptop_dev = pd.read_csv(csv_path + \"memd_laptop_Dev.csv\")\n",
    "memd_laptop_test = pd.read_csv(csv_path + \"memd_laptop_Test.csv\")\n",
    "memd_laptop_train = pd.read_csv(csv_path + \"memd_laptop_Train.csv\")\n",
    "\n",
    "memd_restaurant_dev = pd.read_csv(csv_path + \"memd_restaurant_Dev.csv\")\n",
    "memd_restaurant_test = pd.read_csv(csv_path + \"memd_restaurant_Test.csv\")\n",
    "memd_restaurant_train = pd.read_csv(csv_path + \"memd_restaurant_Train.csv\")"
   ]
  },
  {
   "cell_type": "code",
   "execution_count": 4,
   "id": "f0448401",
   "metadata": {},
   "outputs": [],
   "source": [
    "# print(df['sentiment'].unique())\n",
    "# print(df1['sentiment'].unique())\n"
   ]
  },
  {
   "cell_type": "code",
   "execution_count": 5,
   "id": "377e6a1d",
   "metadata": {},
   "outputs": [],
   "source": [
    "# memd_laptop_dev_original = pd.read_excel(\"Book1.xlsx\")\n",
    "\n",
    "# before = memd_laptop_dev_original.columns\n",
    "# after = memd_laptop_dev.columns\n",
    "\n",
    "# print(f'Before --> {before}')\n",
    "# print(\"----------------------------------------------------------------------------------------------------\")\n",
    "# print(f'After -->{after}')\n"
   ]
  },
  {
   "cell_type": "code",
   "execution_count": 6,
   "id": "1db9d45d",
   "metadata": {},
   "outputs": [],
   "source": [
    "# sentihood_dev_original = pd.read_excel(\"Book2.xlsx\")\n",
    "\n",
    "# before = sentihood_dev_original.columns\n",
    "# after = df_sentihood_dev.columns\n",
    "\n",
    "# print(f'Before --> {before}')\n",
    "# print(\"----------------------------------------------------------------------------------------------------\")\n",
    "# print(f'After -->{after}')\n"
   ]
  },
  {
   "cell_type": "markdown",
   "id": "92b365e1",
   "metadata": {},
   "source": [
    "# Change the column name"
   ]
  },
  {
   "cell_type": "code",
   "execution_count": 7,
   "id": "230b0235",
   "metadata": {},
   "outputs": [],
   "source": [
    "column_mapping= {'raw_words':'sentence', 'text': 'sentence', 'sentences.sentence.text' : 'sentence',\n",
    "                 'quadruples.sentiment' : 'sentiment', 'opinions.sentiment':'sentiment', \n",
    "                 'sentences.sentence.Opinions.Opinion.Attribute:polarity' : 'sentiment',\n",
    "                 'quadruples.aspect.term': 'aspect', 'opinions.aspect': 'aspect', \n",
    "                 'sentences.sentence.Opinions.Opinion.Attribute:target' : 'aspect'}\n",
    "\n",
    "df_name = [memd_book_dev,memd_book_test,memd_book_train,memd_clothing_dev,memd_clothing_test,memd_clothing_train,\n",
    "           memd_hotel_dev,memd_hotel_test,memd_hotel_train,memd_laptop_dev,memd_laptop_test,memd_laptop_train,\n",
    "           memd_restaurant_dev,memd_restaurant_test,memd_restaurant_train,df_sentihood_dev,df_sentihood_test,\n",
    "           df_sentihood_train,df_restaurant_test_15,df_restaurant_train_15,\n",
    "           df_laptop_test,df_laptop_train,df_restaurant_test,df_restaurant_train]\n",
    "\n",
    "df_name_string = ['memd_book_dev','memd_book_test','memd_book_train','memd_clothing_dev',\n",
    "                  'memd_clothing_test','memd_clothing_train','memd_hotel_dev','memd_hotel_test',\n",
    "                  'memd_hotel_train','memd_laptop_dev','memd_laptop_test','memd_laptop_train',\n",
    "                  'memd_restaurant_dev','memd_restaurant_test','memd_restaurant_train',\n",
    "                  'df_sentihood_dev','df_sentihood_test','df_sentihood_train', \n",
    "                  'df_restaurant_test_15', 'df_restaurant_train_15',\n",
    "                  'df_laptop_test', 'df_laptop_train', 'df_restaurant_test', 'df_restaurant_train']\n",
    "\n",
    "for i in range(len(df_name)):\n",
    "    df_name[i] = df_name[i].rename(columns=column_mapping)"
   ]
  },
  {
   "cell_type": "code",
   "execution_count": 8,
   "id": "33148e4b",
   "metadata": {},
   "outputs": [],
   "source": [
    "# print(\"Before rename\")\n",
    "# print(f'Se-15 restaurant test  --> {df_restaurant_test_15.columns}')\n",
    "# print(f'Se-15 restaurant Train -->  {df_restaurant_train_15.columns}')\n",
    "\n",
    "# column_mapping= {'sentences.sentence.text' : 'sentence',\n",
    "#                  'sentences.sentence.Opinions.Opinion.Attribute:polarity' : 'sentiment',\n",
    "#                  'sentences.sentence.Opinions.Opinion.Attribute:target' : 'aspect'}\n",
    "\n",
    "# df_restaurant_test_15 = df_restaurant_test_15.rename(columns=column_mapping)\n",
    "# df_restaurant_train_15 = df_restaurant_train_15.rename(columns=column_mapping)\n",
    "\n",
    "# print('------------------------------------------------------------------------------------')\n",
    "# print(\"After Rename\")\n",
    "# print(f'Se-15 restaurant test  --> {df_restaurant_test_15.columns}')\n",
    "# print(f'Se-15 restaurant Train -->  {df_restaurant_train_15.columns}')"
   ]
  },
  {
   "cell_type": "code",
   "execution_count": 9,
   "id": "5a613f74",
   "metadata": {},
   "outputs": [],
   "source": [
    "# column_mapping= {'raw_words':'sentence',\n",
    "#                  'quadruples.sentiment' : 'sentiment',\n",
    "#                  'quadruples.aspect.term': 'aspect'}\n",
    "\n",
    "# memd_name = [memd_book_dev,memd_book_test,memd_book_train,memd_clothing_dev,memd_clothing_test,memd_clothing_train,\n",
    "#            memd_hotel_dev,memd_hotel_test,memd_hotel_train,memd_laptop_dev,memd_laptop_test,memd_laptop_train,\n",
    "#            memd_restaurant_dev,memd_restaurant_test,memd_restaurant_train]\n",
    "\n",
    "# memd_name_string = ['memd_book_dev','memd_book_test','memd_book_train','memd_clothing_dev',\n",
    "#                   'memd_clothing_test','memd_clothing_train','memd_hotel_dev','memd_hotel_test',\n",
    "#                   'memd_hotel_train','memd_laptop_dev','memd_laptop_test','memd_laptop_train',\n",
    "#                   'memd_restaurant_dev','memd_restaurant_test','memd_restaurant_train']\n",
    "\n",
    "# print('Before Rename')\n",
    "# for i in range(len(memd_name)):\n",
    "#     print(f'{memd_name_string[i]} ---> {memd_name[i].columns}')\n",
    "#     memd_name[i] = memd_name[i].rename(columns=column_mapping)\n",
    "\n",
    "# print('-------------------------------------------------------------------------------------')\n",
    "# print('After Rename')\n",
    "# # check the the column name is correct or not.\n",
    "# for i in range(len(memd_name)):\n",
    "#     print(f'{memd_name_string[i]} ---> {memd_name[i].columns}')"
   ]
  },
  {
   "cell_type": "code",
   "execution_count": 10,
   "id": "500046b0",
   "metadata": {},
   "outputs": [],
   "source": [
    "# column_mapping= {'text': 'sentence',\n",
    "#                  'opinions.sentiment':'sentiment',\n",
    "#                  'opinions.aspect': 'aspect'}\n",
    "\n",
    "# print('Before Rename')\n",
    "# print(f'Sentihood Dev   --> {df_sentihood_dev.columns}')\n",
    "# print(f'Sentihood Test  --> {df_sentihood_test.columns}')\n",
    "# print(f'Sentihood Train --> {df_sentihood_train.columns}')\n",
    "\n",
    "# df_sentihood_dev = df_sentihood_dev.rename(columns=column_mapping)\n",
    "# df_sentihood_test = df_sentihood_test.rename(columns=column_mapping)\n",
    "# df_sentihood_train = df_sentihood_train.rename(columns=column_mapping)\n",
    "\n",
    "# print('------------------------------------------------------------------------------')\n",
    "# print('After Rename')\n",
    "# print(f'Sentihood Dev   --> {df_sentihood_dev.columns}')\n",
    "# print(f'Sentihood Test  --> {df_sentihood_test.columns}')\n",
    "# print(f'Sentihood Train --> {df_sentihood_train.columns}')\n"
   ]
  },
  {
   "cell_type": "code",
   "execution_count": 11,
   "id": "288ddce3",
   "metadata": {},
   "outputs": [
    {
     "name": "stdout",
     "output_type": "stream",
     "text": [
      "memd_book_dev ---> Index(['sentence', 'sentiment', 'aspect', 'subjectivity'], dtype='object')\n",
      "memd_book_test ---> Index(['sentence', 'aspect', 'sentiment', 'subjectivity'], dtype='object')\n",
      "memd_book_train ---> Index(['sentence', 'aspect', 'sentiment', 'subjectivity'], dtype='object')\n",
      "memd_clothing_dev ---> Index(['sentence', 'aspect', 'sentiment', 'subjectivity'], dtype='object')\n",
      "memd_clothing_test ---> Index(['sentence', 'sentiment', 'aspect', 'subjectivity'], dtype='object')\n",
      "memd_clothing_train ---> Index(['sentence', 'sentiment', 'aspect', 'subjectivity'], dtype='object')\n",
      "memd_hotel_dev ---> Index(['sentence', 'sentiment', 'aspect', 'subjectivity'], dtype='object')\n",
      "memd_hotel_test ---> Index(['sentence', 'sentiment', 'aspect', 'subjectivity'], dtype='object')\n",
      "memd_hotel_train ---> Index(['sentence', 'sentiment', 'aspect', 'subjectivity'], dtype='object')\n",
      "memd_laptop_dev ---> Index(['sentence', 'sentiment', 'aspect', 'subjectivity'], dtype='object')\n",
      "memd_laptop_test ---> Index(['sentence', 'sentiment', 'aspect', 'subjectivity'], dtype='object')\n",
      "memd_laptop_train ---> Index(['sentence', 'sentiment', 'aspect', 'subjectivity'], dtype='object')\n",
      "memd_restaurant_dev ---> Index(['sentence', 'sentiment', 'aspect', 'subjectivity'], dtype='object')\n",
      "memd_restaurant_test ---> Index(['sentence', 'sentiment', 'aspect', 'subjectivity'], dtype='object')\n",
      "memd_restaurant_train ---> Index(['sentence', 'sentiment', 'aspect', 'subjectivity'], dtype='object')\n",
      "df_sentihood_dev ---> Index(['sentence', 'aspect', 'sentiment', 'subjectivity'], dtype='object')\n",
      "df_sentihood_test ---> Index(['sentence', 'sentiment', 'aspect', 'subjectivity'], dtype='object')\n",
      "df_sentihood_train ---> Index(['sentence', 'sentiment', 'aspect', 'subjectivity'], dtype='object')\n",
      "df_restaurant_test_15 ---> Index(['sentence', 'aspect', 'sentiment', 'subjectivity'], dtype='object')\n",
      "df_restaurant_train_15 ---> Index(['sentence', 'aspect', 'sentiment', 'subjectivity'], dtype='object')\n",
      "df_laptop_test ---> Index(['sentence', 'aspect', 'sentiment', 'subjectivity'], dtype='object')\n",
      "df_laptop_train ---> Index(['sentence', 'aspect', 'sentiment', 'subjectivity'], dtype='object')\n",
      "df_restaurant_test ---> Index(['sentence', 'aspect', 'sentiment', 'subjectivity'], dtype='object')\n",
      "df_restaurant_train ---> Index(['sentence', 'aspect', 'sentiment', 'subjectivity'], dtype='object')\n"
     ]
    }
   ],
   "source": [
    "# check the the column name is correct or not.\n",
    "for i in range(len(df_name)):\n",
    "    print(f'{df_name_string[i]} ---> {df_name[i].columns}')"
   ]
  },
  {
   "cell_type": "markdown",
   "id": "5144c712",
   "metadata": {},
   "source": [
    "# Find the maximum word in a sentences"
   ]
  },
  {
   "cell_type": "code",
   "execution_count": 12,
   "id": "7f4c5912",
   "metadata": {},
   "outputs": [
    {
     "name": "stdout",
     "output_type": "stream",
     "text": [
      "memd_book_dev ----> 80\n",
      "memd_book_dev ----> 1\n",
      "Maximum word count: 80\n",
      "Sentences with the word count:\n",
      "okay\n",
      "Thanx\n",
      "-----------------------------------------------\n",
      "\n",
      "memd_book_test ----> 148\n",
      "memd_book_test ----> 2\n",
      "Maximum word count: 148\n",
      "Sentences with the word count:\n",
      "excelente .\n",
      "excellent read\n",
      "Exceptional .\n",
      "Perfection .\n",
      "Seriously .\n",
      "Wow !\n",
      "-----------------------------------------------\n",
      "\n",
      "memd_book_train ----> 195\n",
      "memd_book_train ----> 1\n",
      "Maximum word count: 195\n",
      "Sentences with the word count:\n",
      "ENTERTAINING\n",
      "Gift\n",
      "good\n",
      "informative\n",
      "interesting\n",
      "perfect\n",
      "-----------------------------------------------\n",
      "\n",
      "memd_clothing_dev ----> 81\n",
      "memd_clothing_dev ----> 1\n",
      "Maximum word count: 81\n",
      "Sentences with the word count:\n",
      "ok\n",
      "-----------------------------------------------\n",
      "\n",
      "memd_clothing_test ----> 58\n",
      "memd_clothing_test ----> 1\n",
      "Maximum word count: 58\n",
      "Sentences with the word count:\n",
      "Comfy\n",
      "happy\n",
      "-----------------------------------------------\n",
      "\n",
      "memd_clothing_train ----> 114\n",
      "memd_clothing_train ----> 1\n",
      "Maximum word count: 114\n",
      "Sentences with the word count:\n",
      "Comfortable\n",
      "confort\n",
      "Excellent\n",
      "great\n",
      "Like\n",
      "-----------------------------------------------\n",
      "\n",
      "memd_hotel_dev ----> 48\n",
      "memd_hotel_dev ----> 1\n",
      "Maximum word count: 48\n",
      "Sentences with the word count:\n",
      "Perfetto\n",
      "-----------------------------------------------\n",
      "\n",
      "memd_hotel_test ----> 56\n",
      "memd_hotel_test ----> 1\n",
      "Maximum word count: 56\n",
      "Sentences with the word count:\n",
      "Good\n",
      "-----------------------------------------------\n",
      "\n",
      "memd_hotel_train ----> 69\n",
      "memd_hotel_train ----> 1\n",
      "Maximum word count: 69\n",
      "Sentences with the word count:\n",
      "A+++++++++\n",
      "Thanks\n",
      "-----------------------------------------------\n",
      "\n",
      "memd_laptop_dev ----> 69\n",
      "memd_laptop_dev ----> 3\n",
      "Maximum word count: 69\n",
      "Sentences with the word count:\n",
      "comfortable keyboard !\n",
      "extremely slow .\n",
      "fast processor .\n",
      "good screen .\n",
      "great computer .\n",
      "great laptop !\n",
      "love it .\n",
      "nice screen .\n",
      "works well .\n",
      "-----------------------------------------------\n",
      "\n",
      "memd_laptop_test ----> 68\n",
      "memd_laptop_test ----> 1\n",
      "Maximum word count: 68\n",
      "Sentences with the word count:\n",
      "cool\n",
      "Good\n",
      "Lightweight\n",
      "perfect\n",
      "Responsive\n",
      "-----------------------------------------------\n",
      "\n",
      "memd_laptop_train ----> 107\n",
      "memd_laptop_train ----> 2\n",
      "Maximum word count: 107\n",
      "Sentences with the word count:\n",
      "beautiful resolution\n",
      "bigger screen\n",
      "excellent product\n",
      "good display\n",
      "good touchpad\n",
      "great prodcut\n",
      "great product\n",
      "nice keyboard\n",
      "very junky\n",
      "-----------------------------------------------\n",
      "\n",
      "memd_restaurant_dev ----> 128\n",
      "memd_restaurant_dev ----> 2\n",
      "Maximum word count: 128\n",
      "Sentences with the word count:\n",
      "Enjoy !\n",
      "Fabulous .\n",
      "-----------------------------------------------\n",
      "\n",
      "memd_restaurant_test ----> 62\n",
      "memd_restaurant_test ----> 1\n",
      "Maximum word count: 62\n",
      "Sentences with the word count:\n",
      "!\n",
      "-----------------------------------------------\n",
      "\n",
      "memd_restaurant_train ----> 191\n",
      "memd_restaurant_train ----> 1\n",
      "Maximum word count: 191\n",
      "Sentences with the word count:\n",
      "A++\n",
      "-----------------------------------------------\n",
      "\n",
      "df_sentihood_dev ----> 98\n",
      "df_sentihood_dev ----> 2\n",
      "Maximum word count: 98\n",
      "Sentences with the word count:\n",
      "LOCATION1 [LOCATION2\n",
      "LOCATION1 Bells\n",
      "New LOCATION1\n",
      "-----------------------------------------------\n",
      "\n",
      "df_sentihood_test ----> 81\n",
      "df_sentihood_test ----> 2\n",
      "Maximum word count: 81\n",
      "Sentences with the word count:\n",
      "  try LOCATION1\n",
      "Example: LOCATION1\n",
      "In LOCATION1\n",
      "LOCATION1 (N19)\n",
      "LOCATION1 Common\n",
      "LOCATION1 Me\n",
      "LOCATION1 Village\n",
      "Otherwise LOCATION1\n",
      "SW4 LOCATION1\n",
      "Try LOCATION1\n",
      "-----------------------------------------------\n",
      "\n",
      "df_sentihood_train ----> 149\n",
      "df_sentihood_train ----> 1\n",
      "Maximum word count: 149\n",
      "Sentences with the word count:\n",
      "(LOCATION1)\n",
      "ei=UTF-8andp=LOCATION1%20londonandfr2=tab-webandfr=\n",
      "LOCATION1:)\n",
      "-----------------------------------------------\n",
      "\n",
      "df_restaurant_test_15 ----> 57\n",
      "df_restaurant_test_15 ----> 2\n",
      "Maximum word count: 57\n",
      "Sentences with the word count:\n",
      "Amazing food.\n",
      "bad staff\n",
      "Good Food\n",
      "Great Atmosphere\n",
      "great food\n",
      "Great food!\n",
      "Great food.\n",
      "Great sake!\n",
      "Great survice\n",
      "Mazing interior.\n",
      "Tasty Dog!\n",
      "-----------------------------------------------\n",
      "\n",
      "df_restaurant_train_15 ----> 55\n",
      "df_restaurant_train_15 ----> 1\n",
      "Maximum word count: 55\n",
      "Sentences with the word count:\n",
      "Food-awesome.\n",
      "-----------------------------------------------\n",
      "\n",
      "df_laptop_test ----> 60\n",
      "df_laptop_test ----> 2\n",
      "Maximum word count: 60\n",
      "Sentences with the word count:\n",
      "nice packing.\n",
      "-----------------------------------------------\n",
      "\n",
      "df_laptop_train ----> 78\n",
      "df_laptop_train ----> 2\n",
      "Maximum word count: 78\n",
      "Sentences with the word count:\n",
      "amazing quality!\n",
      "wonderful features.\n",
      "awesome graphics!\n",
      "good price.\n",
      "wonderful zooming.\n",
      "defective software.\n",
      "-----------------------------------------------\n",
      "\n",
      "df_restaurant_test ----> 55\n",
      "df_restaurant_test ----> 4\n",
      "Maximum word count: 55\n",
      "Sentences with the word count:\n",
      "the service was outstanding.\n",
      "try the homemade breads.\n",
      "menu - uneventful, small.\n",
      "atmosphere is a bore.\n",
      "there's candlelight and music.\n",
      "there's candlelight and music.\n",
      "-----------------------------------------------\n",
      "\n",
      "df_restaurant_train ----> 69\n",
      "df_restaurant_train ----> 2\n",
      "Maximum word count: 69\n",
      "Sentences with the word count:\n",
      "good food.\n",
      "food awesome.\n",
      "good food.\n",
      "fast service.\n",
      "reasonable prices.\n",
      "great staff.\n",
      "good drink.\n",
      "unique appetizers.\n",
      "acceptable prices.\n",
      "taxan delicious!\n",
      "killer sushi!\n",
      "skip dessert.\n",
      "okay service.\n",
      "moderate prices.\n",
      "-----------------------------------------------\n",
      "\n"
     ]
    }
   ],
   "source": [
    "# Use to find the maximum words in the sentence in the dataset.\n",
    "\n",
    "def count_words(sentence):\n",
    "    if isinstance(sentence, str):\n",
    "        words = sentence.split()\n",
    "        return len(words)\n",
    "    return 0  # return 0 for non-string or empty sentences\n",
    "\n",
    "\n",
    "for i in range(len(df_name)):\n",
    "    word_counts = df_name[i]['sentence'].apply(count_words)\n",
    "\n",
    "    # Finding the maximum number of words in a single sentence\n",
    "    max_word_count = word_counts.max()\n",
    "    min_word_count = word_counts.min()\n",
    "    print(f'{df_name_string[i]} ----> {max_word_count}')\n",
    "    print(f'{df_name_string[i]} ----> {min_word_count}')\n",
    "\n",
    "#     Getting the sentence(s) with the maximum word count\n",
    "    sentences_with_max_words = df_name[i].loc[word_counts == max_word_count, 'sentence']\n",
    "    sentences_with_min_words = df_name[i].loc[word_counts == min_word_count, 'sentence']\n",
    "\n",
    "    \n",
    "\n",
    "    # Displaying the maximum word count and the corresponding sentence(s)\n",
    "    print(f'Maximum word count: {max_word_count}')\n",
    "    print('Sentences with the word count:')\n",
    "    for sentence in sentences_with_min_words.tolist():\n",
    "        print(sentence)\n",
    "\n",
    "    print('-----------------------------------------------\\n')\n",
    "\n",
    "\n",
    "#     Displaying the maximum word count and the corresponding sentence(s)\n",
    "#     max_word_count, sentences_with_max_words.tolist()\n",
    "#     print('-----------------------------------------------')\n",
    "\n",
    "    \n"
   ]
  },
  {
   "cell_type": "markdown",
   "id": "d8541d2a",
   "metadata": {},
   "source": [
    "# Make a copy for all dataset"
   ]
  },
  {
   "cell_type": "code",
   "execution_count": 13,
   "id": "5503a54d",
   "metadata": {},
   "outputs": [],
   "source": [
    "df_name_string1 = ['memd_book_dev1','memd_book_test1','memd_book_train1','memd_clothing_dev1',\n",
    "                   'memd_clothing_test1','memd_clothing_train1','memd_hotel_dev1','memd_hotel_test1',\n",
    "                   'memd_hotel_train1','memd_laptop_dev1','memd_laptop_test1','memd_laptop_train1',\n",
    "                   'memd_restaurant_dev1','memd_restaurant_test1','memd_restaurant_train1',\n",
    "                   'df_sentihood_dev1','df_sentihood_test1','df_sentihood_train1',\n",
    "                   'df_restaurant_test_15_1', 'df_restaurant_train_15_1','df_laptop_test1',\n",
    "                   'df_laptop_train1','df_restaurant_test1','df_restaurant_train1']\n",
    "\n",
    "# make a copy for all dataset.\n",
    "df_name1 = []\n",
    "\n",
    "for i in range(len(df_name)):\n",
    "    df_name_string1[i] = df_name[i].copy()\n",
    "    df_name1.append(df_name_string1[i])"
   ]
  },
  {
   "cell_type": "markdown",
   "id": "7b8d285a",
   "metadata": {},
   "source": [
    "# Remove the 'conflict' in sentiment attributes"
   ]
  },
  {
   "cell_type": "code",
   "execution_count": 14,
   "id": "25ab1d97",
   "metadata": {},
   "outputs": [
    {
     "name": "stdout",
     "output_type": "stream",
     "text": [
      "Before drop the conflict-------------------------\n",
      "df_restaurant_train -----> ['positive' 'negative' 'neutral']\n",
      "df_restaurant_test -----> ['positive' 'negative' 'neutral']\n",
      "df_laptop_train -----> ['positive' 'negative' 'neutral']\n",
      "df_laptop_test -----> ['positive' 'neutral' 'negative']\n",
      "\n",
      "After drop the conflict--------------------------\n",
      "df_restaurant_train -----> ['positive' 'negative' 'neutral']\n",
      "df_restaurant_test -----> ['positive' 'negative' 'neutral']\n",
      "df_laptop_train -----> ['positive' 'negative' 'neutral']\n",
      "df_laptop_test -----> ['positive' 'neutral' 'negative']\n",
      "df_restaurant_train -----> 3602\n",
      "df_restaurant_test -----> 1120\n",
      "df_laptop_train -----> 2313\n",
      "df_laptop_test -----> 638\n"
     ]
    }
   ],
   "source": [
    "df_sem = [df_name[-1],df_name[-2],df_name[-3],df_name[-4]]\n",
    "df_sem1 = [df_name1[-1],df_name1[-2],df_name1[-3],df_name1[-4]]\n",
    "\n",
    "# drop the conflict \n",
    "for df1 in df_sem1:\n",
    "    df1.drop(df1[df1['sentiment'] =='conflict'].index, inplace = True)\n",
    "\n",
    "print('Before drop the conflict-------------------------')\n",
    "i = -1\n",
    "for df in df_sem:\n",
    "    uniques = df['sentiment'].unique()\n",
    "    print(f'{df_name_string[i]} -----> {uniques}')\n",
    "    i-=1\n",
    "\n",
    "print('\\nAfter drop the conflict--------------------------')\n",
    "j = -1\n",
    "for df1 in df_sem1:\n",
    "    uniques1 = df1['sentiment'].unique()\n",
    "    print(f'{df_name_string[j]} -----> {uniques1}')\n",
    "    j-=1\n",
    "\n",
    "p = -1\n",
    "for df1 in df_sem1:\n",
    "    num_rows = df1.shape[0]\n",
    "    print(f'{df_name_string[p]} -----> {num_rows}')\n",
    "    p -=1"
   ]
  },
  {
   "cell_type": "markdown",
   "id": "e619f157",
   "metadata": {},
   "source": [
    "# Data Labelling \n",
    "\n",
    "Create a new column name 'sub&obj'"
   ]
  },
  {
   "cell_type": "code",
   "execution_count": 15,
   "id": "6a55807f",
   "metadata": {},
   "outputs": [
    {
     "name": "stdout",
     "output_type": "stream",
     "text": [
      "Laptop Test      --> Index(['sentence', 'aspect', 'sentiment', 'subjectivity'], dtype='object')\n",
      "Laptop Train     --> Index(['sentence', 'aspect', 'sentiment', 'subjectivity'], dtype='object')\n",
      "Restaurant Test  --> Index(['sentence', 'aspect', 'sentiment', 'subjectivity'], dtype='object')\n",
      "Restaurant Train --> Index(['sentence', 'aspect', 'sentiment', 'subjectivity'], dtype='object')\n"
     ]
    }
   ],
   "source": [
    "print(f'Laptop Test      --> {df_laptop_test.columns}')\n",
    "print(f'Laptop Train     --> {df_laptop_train.columns}')\n",
    "print(f'Restaurant Test  --> {df_restaurant_test.columns}')\n",
    "print(f'Restaurant Train --> {df_restaurant_train.columns}')"
   ]
  },
  {
   "cell_type": "code",
   "execution_count": 16,
   "id": "59f53742",
   "metadata": {},
   "outputs": [
    {
     "name": "stdout",
     "output_type": "stream",
     "text": [
      "After Create a new attributes\n",
      "Restaurant Test  --> Index(['sentence', 'aspect', 'sentiment', 'subjectivity'], dtype='object')\n",
      "Restaurant Train --> Index(['sentence', 'aspect', 'sentiment', 'subjectivity'], dtype='object')\n"
     ]
    }
   ],
   "source": [
    "print('After Create a new attributes')\n",
    "print(f'Restaurant Test  --> {df_name[-6].columns}')\n",
    "print(f'Restaurant Train --> {df_name[-5].columns}')"
   ]
  },
  {
   "cell_type": "code",
   "execution_count": 17,
   "id": "7c2d0ef9",
   "metadata": {},
   "outputs": [],
   "source": [
    "# for i in range(len(memd_name)):\n",
    "#     columns_memd = memd_name[i].columns\n",
    "#     print(f'{memd_name_string[i]}--> {columns_memd}')"
   ]
  },
  {
   "cell_type": "code",
   "execution_count": 18,
   "id": "6cc74116",
   "metadata": {},
   "outputs": [],
   "source": [
    "# print('Before Create a new attributes')\n",
    "# print(f'Sentihood Dev    --> {df_name1[-7].columns}')\n",
    "# print(f'Sentihood Test   --> {df_name1[-6].columns}')\n",
    "# print(f'Sentihood Train  --> {df_name1[-5].columns}')"
   ]
  },
  {
   "cell_type": "code",
   "execution_count": 19,
   "id": "0cf0ec45",
   "metadata": {},
   "outputs": [
    {
     "name": "stdout",
     "output_type": "stream",
     "text": [
      "memd_book_dev ---> [0 1]\n",
      "memd_book_test ---> [0 1]\n",
      "memd_book_train ---> [0 1]\n",
      "memd_clothing_dev ---> [0 1]\n",
      "memd_clothing_test ---> [0 1]\n",
      "memd_clothing_train ---> [0 1]\n",
      "memd_hotel_dev ---> [0 1]\n",
      "memd_hotel_test ---> [0]\n",
      "memd_hotel_train ---> [0 1]\n",
      "memd_laptop_dev ---> [0 1]\n",
      "memd_laptop_test ---> [0 1]\n",
      "memd_laptop_train ---> [0 1]\n",
      "memd_restaurant_dev ---> [0 1]\n",
      "memd_restaurant_test ---> [0 1]\n",
      "memd_restaurant_train ---> [0 1]\n",
      "df_sentihood_dev ---> [ 0. nan]\n",
      "df_sentihood_test ---> [ 0. nan]\n",
      "df_sentihood_train ---> [ 0. nan]\n",
      "df_restaurant_test_15 ---> [0 1]\n",
      "df_restaurant_train_15 ---> [0 1]\n",
      "df_laptop_test ---> [0 1]\n",
      "df_laptop_train ---> [0 1]\n",
      "df_restaurant_test ---> [0 1]\n",
      "df_restaurant_train ---> [0 1]\n"
     ]
    }
   ],
   "source": [
    "# create a new class for subjective and objective\n",
    "def map_polarity_to_sub_obj(polarity):\n",
    "    if polarity in ['positive', 'negative', 'Positive', 'Negative', 'POS', 'NEG', 'pos', 'neg']:\n",
    "        return 0\n",
    "    elif polarity in ['neutral', 'Neutral', 'NEU', 'neu']:\n",
    "        return 1\n",
    "        \n",
    "attributes ='sentiment'\n",
    "\n",
    "csv_name = ['memd_book_Dev.csv','memd_book_Test.csv', 'memd_book_Train.csv','memd_clothing_Dev.csv',\n",
    "            'memd_clothing_Test.csv','memd_clothing_Train.csv','memd_hotel_Dev.csv', 'memd_hotel_Test.csv',\n",
    "            'memd_hotel_Train.csv', 'memd_laptop_Dev.csv','memd_laptop_Test.csv','memd_laptop_Train.csv', \n",
    "            'laptop_2014_test.csv','laptop_2014_train.csv', 'restaurant_2014_test.csv','restaurant_2014_train.csv']\n",
    "\n",
    "# Perform the map_polarity_to_sub_obj function\n",
    "for i in range(len(df_name1)):\n",
    "    df_name1[i]['subjectivity'] = df_name1[i][attributes].apply(lambda x: map_polarity_to_sub_obj(x))\n",
    "#     df_name1[i].to_csv(csv_name[i], index=False)\n",
    "\n",
    "\n",
    "\n",
    "# print all the unique number of 'sub&obj' to double check\n",
    "for i in range(len(df_name1)):\n",
    "    uniques = df_name1[i]['subjectivity'].unique()\n",
    "    print(f'{df_name_string[i]} ---> {uniques}')\n",
    "    \n",
    "# df['subjectivity'] = df[attributes].apply(lambda x: map_polarity_to_sub_obj(x))\n",
    "# df.to_csv('2015_restaurant_test.csv', index=False)\n",
    "\n",
    "\n",
    "# set the csv name in a list\n",
    "# csv_name = ['memd_book_Dev.csv','memd_book_Test.csv', 'memd_book_Train.csv','memd_clothing_Dev.csv',\n",
    "#             'memd_clothing_Test.csv','memd_clothing_Train.csv','memd_hotel_Dev.csv', 'memd_hotel_Test.csv',\n",
    "#             'memd_hotel_Train.csv', 'memd_laptop_Dev.csv','memd_laptop_Test.csv','memd_laptop_Train.csv', \n",
    "#             'memd_restaurant_Dev.csv', 'memd_restaurant_Test.csv', 'memd_restaurant_Train.csv', \n",
    "#             'sentihood-dev.csv','sentihood-test.csv', 'sentihood-train.csv',\n",
    "#             '2015_restaurant_test.csv', '2015_restaurant_train.csv','laptop_2014_test.csv',\n",
    "#             'laptop_2014_train.csv', 'restaurant_2014_test.csv','restaurant_2014_train.csv']"
   ]
  },
  {
   "cell_type": "code",
   "execution_count": 20,
   "id": "a322de88",
   "metadata": {},
   "outputs": [
    {
     "name": "stdout",
     "output_type": "stream",
     "text": [
      "[0 1]\n",
      "[0 1]\n"
     ]
    }
   ],
   "source": [
    "print(df['subjectivity'].unique())\n",
    "print(df1['subjectivity'].unique())"
   ]
  },
  {
   "cell_type": "code",
   "execution_count": 21,
   "id": "b1353826",
   "metadata": {},
   "outputs": [
    {
     "data": {
      "text/plain": [
       "sentence        0\n",
       "aspect          0\n",
       "sentiment       0\n",
       "subjectivity    0\n",
       "dtype: int64"
      ]
     },
     "execution_count": 21,
     "metadata": {},
     "output_type": "execute_result"
    }
   ],
   "source": [
    "df1.isna().sum()"
   ]
  },
  {
   "cell_type": "code",
   "execution_count": 22,
   "id": "c146288b",
   "metadata": {},
   "outputs": [
    {
     "data": {
      "text/html": [
       "<div>\n",
       "<style scoped>\n",
       "    .dataframe tbody tr th:only-of-type {\n",
       "        vertical-align: middle;\n",
       "    }\n",
       "\n",
       "    .dataframe tbody tr th {\n",
       "        vertical-align: top;\n",
       "    }\n",
       "\n",
       "    .dataframe thead th {\n",
       "        text-align: right;\n",
       "    }\n",
       "</style>\n",
       "<table border=\"1\" class=\"dataframe\">\n",
       "  <thead>\n",
       "    <tr style=\"text-align: right;\">\n",
       "      <th></th>\n",
       "      <th>sentence</th>\n",
       "      <th>sentiment</th>\n",
       "      <th>aspect</th>\n",
       "      <th>subjectivity</th>\n",
       "    </tr>\n",
       "  </thead>\n",
       "  <tbody>\n",
       "    <tr>\n",
       "      <th>0</th>\n",
       "      <td>( this was really at odds with her personality...</td>\n",
       "      <td>NEG</td>\n",
       "      <td>NaN</td>\n",
       "      <td>0</td>\n",
       "    </tr>\n",
       "    <tr>\n",
       "      <th>1</th>\n",
       "      <td>100 stars !</td>\n",
       "      <td>POS</td>\n",
       "      <td>NaN</td>\n",
       "      <td>0</td>\n",
       "    </tr>\n",
       "    <tr>\n",
       "      <th>2</th>\n",
       "      <td>A bit difficult in the beginning to follow the...</td>\n",
       "      <td>NEG</td>\n",
       "      <td>stories</td>\n",
       "      <td>0</td>\n",
       "    </tr>\n",
       "    <tr>\n",
       "      <th>3</th>\n",
       "      <td>A bit difficult in the beginning to follow the...</td>\n",
       "      <td>POS</td>\n",
       "      <td>stories</td>\n",
       "      <td>0</td>\n",
       "    </tr>\n",
       "    <tr>\n",
       "      <th>4</th>\n",
       "      <td>A fascinating and well written history of canc...</td>\n",
       "      <td>POS</td>\n",
       "      <td>history</td>\n",
       "      <td>0</td>\n",
       "    </tr>\n",
       "    <tr>\n",
       "      <th>...</th>\n",
       "      <td>...</td>\n",
       "      <td>...</td>\n",
       "      <td>...</td>\n",
       "      <td>...</td>\n",
       "    </tr>\n",
       "    <tr>\n",
       "      <th>499</th>\n",
       "      <td>Wow , this was a real tear jerker - and unfort...</td>\n",
       "      <td>NEG</td>\n",
       "      <td>NaN</td>\n",
       "      <td>0</td>\n",
       "    </tr>\n",
       "    <tr>\n",
       "      <th>500</th>\n",
       "      <td>Yes , the reader is aware of what the main cha...</td>\n",
       "      <td>NEG</td>\n",
       "      <td>end</td>\n",
       "      <td>0</td>\n",
       "    </tr>\n",
       "    <tr>\n",
       "      <th>501</th>\n",
       "      <td>Yes , the reader is aware of what the main cha...</td>\n",
       "      <td>NEG</td>\n",
       "      <td>NaN</td>\n",
       "      <td>0</td>\n",
       "    </tr>\n",
       "    <tr>\n",
       "      <th>502</th>\n",
       "      <td>Yes a true story of an amazing woman with enou...</td>\n",
       "      <td>POS</td>\n",
       "      <td>woman</td>\n",
       "      <td>0</td>\n",
       "    </tr>\n",
       "    <tr>\n",
       "      <th>503</th>\n",
       "      <td>You really want to see what happens next .</td>\n",
       "      <td>POS</td>\n",
       "      <td>NaN</td>\n",
       "      <td>0</td>\n",
       "    </tr>\n",
       "  </tbody>\n",
       "</table>\n",
       "<p>504 rows × 4 columns</p>\n",
       "</div>"
      ],
      "text/plain": [
       "                                              sentence sentiment   aspect  \\\n",
       "0    ( this was really at odds with her personality...       NEG      NaN   \n",
       "1                                          100 stars !       POS      NaN   \n",
       "2    A bit difficult in the beginning to follow the...       NEG  stories   \n",
       "3    A bit difficult in the beginning to follow the...       POS  stories   \n",
       "4    A fascinating and well written history of canc...       POS  history   \n",
       "..                                                 ...       ...      ...   \n",
       "499  Wow , this was a real tear jerker - and unfort...       NEG      NaN   \n",
       "500  Yes , the reader is aware of what the main cha...       NEG      end   \n",
       "501  Yes , the reader is aware of what the main cha...       NEG      NaN   \n",
       "502  Yes a true story of an amazing woman with enou...       POS    woman   \n",
       "503         You really want to see what happens next .       POS      NaN   \n",
       "\n",
       "     subjectivity  \n",
       "0               0  \n",
       "1               0  \n",
       "2               0  \n",
       "3               0  \n",
       "4               0  \n",
       "..            ...  \n",
       "499             0  \n",
       "500             0  \n",
       "501             0  \n",
       "502             0  \n",
       "503             0  \n",
       "\n",
       "[504 rows x 4 columns]"
      ]
     },
     "metadata": {},
     "output_type": "display_data"
    }
   ],
   "source": [
    "display(df_name1[0])\n",
    "# df_name1[0].to_csv('memd_book_Test.csv', index=False)\n"
   ]
  },
  {
   "cell_type": "code",
   "execution_count": 23,
   "id": "eb16f9ab",
   "metadata": {},
   "outputs": [],
   "source": [
    "# print('After Create a new attributes')\n",
    "# print(f'Sentihood Dev    --> {df_name1[-7].columns}')\n",
    "# print(f'Sentihood Test   --> {df_name1[-6].columns}')\n",
    "# print(f'Sentihood Train  --> {df_name1[-5].columns}')"
   ]
  },
  {
   "cell_type": "code",
   "execution_count": 24,
   "id": "a6f4d359",
   "metadata": {},
   "outputs": [
    {
     "name": "stdout",
     "output_type": "stream",
     "text": [
      "After Create a new attributes\n",
      "Laptop Test      --> Index(['sentence', 'aspect', 'sentiment', 'subjectivity'], dtype='object')\n",
      "Laptop Train     --> Index(['sentence', 'aspect', 'sentiment', 'subjectivity'], dtype='object')\n",
      "Restaurant Test  --> Index(['sentence', 'aspect', 'sentiment', 'subjectivity'], dtype='object')\n",
      "Restaurant Train --> Index(['sentence', 'aspect', 'sentiment', 'subjectivity'], dtype='object')\n"
     ]
    }
   ],
   "source": [
    "print('After Create a new attributes')\n",
    "print(f'Laptop Test      --> {df_name1[-4].columns}')\n",
    "print(f'Laptop Train     --> {df_name1[-3].columns}')\n",
    "print(f'Restaurant Test  --> {df_name1[-2].columns}')\n",
    "print(f'Restaurant Train --> {df_name1[-1].columns}')"
   ]
  },
  {
   "cell_type": "code",
   "execution_count": 25,
   "id": "5f61d774",
   "metadata": {},
   "outputs": [
    {
     "name": "stdout",
     "output_type": "stream",
     "text": [
      "After Create a new attributes\n",
      "Restaurant Test  --> Index(['sentence', 'aspect', 'sentiment', 'subjectivity'], dtype='object')\n",
      "Restaurant Train --> Index(['sentence', 'aspect', 'sentiment', 'subjectivity'], dtype='object')\n"
     ]
    }
   ],
   "source": [
    "print('After Create a new attributes')\n",
    "print(f'Restaurant Test  --> {df_name1[-6].columns}')\n",
    "print(f'Restaurant Train --> {df_name1[-5].columns}')"
   ]
  },
  {
   "cell_type": "code",
   "execution_count": 26,
   "id": "b5236352",
   "metadata": {},
   "outputs": [],
   "source": [
    "# for i in range(len(df_name1)):\n",
    "#     if i == 15:\n",
    "#         break\n",
    "#     else:\n",
    "#         columns_memd = df_name1[i].columns\n",
    "#         print(f'{memd_name_string[i]}--> {columns_memd}')"
   ]
  },
  {
   "cell_type": "markdown",
   "id": "6a013f9c",
   "metadata": {},
   "source": [
    "# EDA"
   ]
  },
  {
   "cell_type": "markdown",
   "id": "3fe27551",
   "metadata": {},
   "source": [
    "# SemEval 2014"
   ]
  },
  {
   "cell_type": "markdown",
   "id": "8fd7ef96",
   "metadata": {},
   "source": [
    "Before drop the conflict"
   ]
  },
  {
   "cell_type": "code",
   "execution_count": 47,
   "id": "33c898a8",
   "metadata": {
    "scrolled": false
   },
   "outputs": [
    {
     "data": {
      "image/png": "[encoded data removed]",
      "text/plain": [
       "<Figure size 432x288 with 1 Axes>"
      ]
     },
     "metadata": {
      "needs_background": "light"
     },
     "output_type": "display_data"
    },
    {
     "name": "stdout",
     "output_type": "stream",
     "text": [
      "positive    1328\n",
      "negative     994\n",
      "neutral      629\n",
      "Name: sentiment, dtype: int64\n"
     ]
    }
   ],
   "source": [
    "# column_name = 'sentiment'\n",
    "# laptop = laptop['sentiment']\n",
    "\n",
    "# sentiment_counts1 = laptop.value_counts()\n",
    "\n",
    "# # Plotting the bar chart\n",
    "# sentiment_counts1.plot(kind='bar')\n",
    "# plt.title(f'SemEval 2014 - laptop')\n",
    "# plt.xlabel('Sentiment')\n",
    "# plt.ylabel('Frequency')\n",
    "# plt.xticks(rotation=0)\n",
    "# plt.show()\n",
    "# print(sentiment_counts1)\n",
    "\n"
   ]
  },
  {
   "cell_type": "code",
   "execution_count": 48,
   "id": "41c72da7",
   "metadata": {},
   "outputs": [
    {
     "data": {
      "image/png": "[encoded data removed]",
      "text/plain": [
       "<Figure size 432x288 with 1 Axes>"
      ]
     },
     "metadata": {
      "needs_background": "light"
     },
     "output_type": "display_data"
    },
    {
     "name": "stdout",
     "output_type": "stream",
     "text": [
      "positive    2892\n",
      "negative    1001\n",
      "neutral      829\n",
      "Name: sentiment, dtype: int64\n"
     ]
    }
   ],
   "source": [
    "# restaurant = restaurant['sentiment']\n",
    "\n",
    "# sentiment_counts2 = restaurant.value_counts()\n",
    "\n",
    "# # Plotting the bar chart\n",
    "# sentiment_counts2.plot(kind='bar')\n",
    "# plt.title(f'SemEval 2014 - Restaurant')\n",
    "# plt.xlabel('Sentiment')\n",
    "# plt.ylabel('Frequency')\n",
    "# plt.xticks(rotation=0)\n",
    "# plt.show()\n",
    "\n",
    "# print(sentiment_counts2)\n"
   ]
  },
  {
   "cell_type": "code",
   "execution_count": 53,
   "id": "72a80fa3",
   "metadata": {},
   "outputs": [
    {
     "data": {
      "image/png": "[encoded data removed]",
      "text/plain": [
       "<Figure size 432x288 with 1 Axes>"
      ]
     },
     "metadata": {
      "needs_background": "light"
     },
     "output_type": "display_data"
    },
    {
     "name": "stdout",
     "output_type": "stream",
     "text": [
      "0    2322\n",
      "1     629\n",
      "Name: subjectivity, dtype: int64\n"
     ]
    }
   ],
   "source": [
    "# laptop = laptop['subjectivity']\n",
    "\n",
    "# sentiment_counts1 = laptop.value_counts()\n",
    "\n",
    "# # Plotting the bar chart\n",
    "# sentiment_counts1.plot(kind='bar')\n",
    "# plt.title(f'SemEval 2014 - laptop')\n",
    "# plt.xlabel('Subjectivity & Objectivity')\n",
    "# plt.ylabel('Frequency')\n",
    "# plt.xticks(rotation=0)\n",
    "# plt.show()\n",
    "# print(sentiment_counts1)"
   ]
  },
  {
   "cell_type": "code",
   "execution_count": 57,
   "id": "778a5845",
   "metadata": {},
   "outputs": [
    {
     "data": {
      "image/png": "[encoded data removed]",
      "text/plain": [
       "<Figure size 432x288 with 1 Axes>"
      ]
     },
     "metadata": {
      "needs_background": "light"
     },
     "output_type": "display_data"
    },
    {
     "name": "stdout",
     "output_type": "stream",
     "text": [
      "0    3893\n",
      "1     829\n",
      "Name: subjectivity, dtype: int64\n"
     ]
    }
   ],
   "source": [
    "# restaurant = restaurant['subjectivity']\n",
    "\n",
    "# sentiment_counts2 = restaurant.value_counts()\n",
    "\n",
    "# # Plotting the bar chart\n",
    "# sentiment_counts2.plot(kind='bar')\n",
    "# plt.title(f'SemEval 2014 - Restaurant')\n",
    "# plt.xlabel('Sentiment')\n",
    "# plt.ylabel('Frequency')\n",
    "# plt.xticks(rotation=0)\n",
    "# plt.show()\n",
    "\n",
    "# print(sentiment_counts2)\n"
   ]
  },
  {
   "cell_type": "code",
   "execution_count": null,
   "id": "7049dbdd",
   "metadata": {},
   "outputs": [],
   "source": [
    "# column_name = 'subjectivity'\n",
    "\n",
    "# sem_lap_test  = df_name1[-4][column_name]\n",
    "# sem_lap_train = df_name1[-3][column_name]\n",
    "# sem_res_test  = df_name1[-2][column_name]\n",
    "# sem_res_train = df_name1[-1][column_name]\n",
    "\n",
    "# sem_list = [sem_lap_test,sem_lap_train,sem_res_test,sem_res_train]\n",
    "\n",
    "# k = -4\n",
    "# for sem in sem_list:\n",
    "\n",
    "#     # Count the occurrences of each value\n",
    "#     sentiment_counts = sem.value_counts()\n",
    "\n",
    "#     # Plotting the bar chart\n",
    "#     sentiment_counts.plot(kind='bar')\n",
    "#     plt.title(f'SemEval 2014 - {df_name_string[k]}')\n",
    "#     plt.xlabel('Subjective Classification')\n",
    "#     plt.ylabel('Frequency')\n",
    "#     plt.xticks(rotation=0)\n",
    "#     plt.show()\n",
    "    \n",
    "#     print(sentiment_counts)\n",
    "#     k+=1"
   ]
  },
  {
   "cell_type": "markdown",
   "id": "78a2c947",
   "metadata": {},
   "source": [
    "After drop the conflict"
   ]
  },
  {
   "cell_type": "code",
   "execution_count": null,
   "id": "bf461c67",
   "metadata": {},
   "outputs": [],
   "source": [
    "# column_name = 'sentiment'\n",
    "\n",
    "# sem_lap_test  = df_name1[-4][column_name]\n",
    "# sem_lap_train = df_name1[-3][column_name]\n",
    "# sem_res_test  = df_name1[-2][column_name]\n",
    "# sem_res_train = df_name1[-1][column_name]\n",
    "\n",
    "# sem_list = [sem_lap_test,sem_lap_train,sem_res_test,sem_res_train]\n",
    "\n",
    "# k = -4\n",
    "# for sem in sem_list:\n",
    "\n",
    "#     # Count the occurrences of each value\n",
    "#     sentiment_counts = sem.value_counts()\n",
    "\n",
    "#     # Plotting the bar chart\n",
    "#     sentiment_counts.plot(kind='bar')\n",
    "#     plt.title(f'SemEval 2014 - {df_name_string[k]}')\n",
    "#     plt.xlabel('Sentiment')\n",
    "#     plt.ylabel('Frequency')\n",
    "#     plt.xticks(rotation=0)\n",
    "#     plt.show()\n",
    "    \n",
    "#     print(sentiment_counts)\n",
    "#     k+=1"
   ]
  },
  {
   "cell_type": "markdown",
   "id": "84897233",
   "metadata": {},
   "source": [
    "# Sentihood"
   ]
  },
  {
   "cell_type": "code",
   "execution_count": null,
   "id": "061df40b",
   "metadata": {},
   "outputs": [],
   "source": [
    "# sentihood_test  = df_name1[-7][column_name]\n",
    "# sentihood_train = df_name1[-6][column_name]\n",
    "# sentihood_test  = df_name1[-5][column_name]\n",
    "\n",
    "# sentihood_list = [sentihood_test,sentihood_train,sentihood_test]\n",
    "\n",
    "# k = -7\n",
    "# for sen in sentihood_list:\n",
    "\n",
    "#     # Count the occurrences of each value\n",
    "#     sentiment_counts = sen.value_counts()\n",
    "\n",
    "#     # Plotting the bar chart\n",
    "#     sentiment_counts.plot(kind='bar')\n",
    "#     plt.title(f'{df_name_string[k]}')\n",
    "#     plt.xlabel('Sentiment')\n",
    "#     plt.ylabel('Frequency')\n",
    "#     plt.xticks(rotation=0)\n",
    "#     plt.show()\n",
    "    \n",
    "#     print(sentiment_counts)\n",
    "#     k+=1"
   ]
  },
  {
   "cell_type": "code",
   "execution_count": null,
   "id": "7086b9eb",
   "metadata": {},
   "outputs": [],
   "source": [
    "# column_name = 'sentiment'\n",
    "\n",
    "# sem_res_test_15  = df_name[-6][column_name]\n",
    "# sem_res_train_15 = df_name[-5][column_name]\n",
    "\n",
    "# sem_list_15 = [sem_res_test_15,sem_res_train_15]\n",
    "\n",
    "# W = -6\n",
    "# for sem in sem_list_15:\n",
    "\n",
    "#     # Count the occurrences of each value\n",
    "#     sentiment_counts = sem.value_counts()\n",
    "\n",
    "#     # Plotting the bar chart\n",
    "#     sentiment_counts.plot(kind='bar')\n",
    "#     plt.title(f'SemEval 2015 - {df_name_string[k]}')\n",
    "#     plt.xlabel('Sentiment')\n",
    "#     plt.ylabel('Frequency')\n",
    "#     plt.xticks(rotation=0)\n",
    "#     plt.show()\n",
    "    \n",
    "#     print(sentiment_counts)\n",
    "#     W+=1"
   ]
  },
  {
   "cell_type": "markdown",
   "id": "4406cbd7",
   "metadata": {},
   "source": [
    "# MEMD"
   ]
  }
 ],
 "metadata": {
  "kernelspec": {
   "display_name": "Python 3 (ipykernel)",
   "language": "python",
   "name": "python3"
  },
  "language_info": {
   "codemirror_mode": {
    "name": "ipython",
    "version": 3
   },
   "file_extension": ".py",
   "mimetype": "text/x-python",
   "name": "python",
   "nbconvert_exporter": "python",
   "pygments_lexer": "ipython3",
   "version": "3.9.12"
  }
 },
 "nbformat": 4,
 "nbformat_minor": 5
}
