{
 "cells": [
  {
   "cell_type": "code",
   "execution_count": 1,
   "id": "0944805b",
   "metadata": {},
   "outputs": [
    {
     "name": "stderr",
     "output_type": "stream",
     "text": [
      "C:\\Users\\Zychia\\AppData\\Local\\anaconda3\\envs\\FYP\\Lib\\site-packages\\tqdm\\auto.py:21: TqdmWarning: IProgress not found. Please update jupyter and ipywidgets. See https://ipywidgets.readthedocs.io/en/stable/user_install.html\n",
      "  from .autonotebook import tqdm as notebook_tqdm\n"
     ]
    },
    {
     "name": "stdout",
     "output_type": "stream",
     "text": [
      "WARNING:tensorflow:From C:\\Users\\Zychia\\AppData\\Local\\anaconda3\\envs\\FYP\\Lib\\site-packages\\tf_keras\\src\\losses.py:2976: The name tf.losses.sparse_softmax_cross_entropy is deprecated. Please use tf.compat.v1.losses.sparse_softmax_cross_entropy instead.\n",
      "\n"
     ]
    }
   ],
   "source": [
    "import pandas as pd\n",
    "import torch\n",
    "from transformers import BertTokenizer, BertForSequenceClassification, AdamW, TFBertForSequenceClassification\n",
    "# import tensorflow as tf\n",
    "from torch.utils.data import DataLoader, TensorDataset\n",
    "from sklearn.model_selection import train_test_split\n",
    "from sklearn.metrics import accuracy_score, f1_score, precision_score, recall_score, confusion_matrix\n",
    "import numpy as np\n",
    "import matplotlib.pyplot as plt"
   ]
  },
  {
   "cell_type": "code",
   "execution_count": 2,
   "id": "11e51bd8",
   "metadata": {},
   "outputs": [
    {
     "name": "stdout",
     "output_type": "stream",
     "text": [
      "True\n"
     ]
    }
   ],
   "source": [
    "print(torch.cuda.is_available())"
   ]
  },
  {
   "cell_type": "code",
   "execution_count": 3,
   "id": "f055e381",
   "metadata": {},
   "outputs": [],
   "source": [
    "def convertDataloader(sentences, labels, shuffle):\n",
    "    # Tokenize the sentences using the BERT tokenizer\n",
    "    tokenizer = BertTokenizer.from_pretrained('bert-base-uncased')\n",
    "    encoded = tokenizer(list(sentences), padding=True, truncation=True, return_tensors='pt')\n",
    "    \n",
    "    # Create DataLoader\n",
    "    dataset = TensorDataset(encoded['input_ids'], torch.tensor(labels))\n",
    "    dataloader = DataLoader(dataset, batch_size=64, shuffle=shuffle)\n",
    "\n",
    "    return dataloader"
   ]
  },
  {
   "cell_type": "code",
   "execution_count": 5,
   "id": "f1d9d696-c1b7-49d2-8a88-db08999c70e7",
   "metadata": {},
   "outputs": [],
   "source": [
    "def trainModel(model, train_dataloader, num_epochs=20, learning_rate=2e-5):\n",
    "\n",
    "    optimizer = AdamW(model.parameters(), lr=learning_rate)\n",
    "    device = torch.device('cuda' if torch.cuda.is_available() else 'cpu')\n",
    "    model.to(device)\n",
    "    training_loss_values = []\n",
    "\n",
    "    for epoch in range(num_epochs):\n",
    "        model.train()\n",
    "        total_training_loss = 0.0\n",
    "        \n",
    "        for batch in train_dataloader:\n",
    "            inputs, labels = batch\n",
    "            inputs, labels = inputs.to(device), labels.to(device)\n",
    "            optimizer.zero_grad()\n",
    "            outputs = model(inputs, labels=labels)\n",
    "            loss = outputs.loss\n",
    "            loss.backward()\n",
    "            optimizer.step()\n",
    "            total_training_loss += loss.item()\n",
    "\n",
    "        avg_training_loss = total_training_loss / len(train_dataloader)\n",
    "        training_loss_values.append(avg_training_loss)\n",
    "        print(f'Epoch {epoch + 1}/{num_epochs}, Avg. Training Loss: {avg_training_loss}')\n",
    "\n",
    "    plt.plot(training_loss_values, label='Training Loss')\n",
    "    plt.xlabel('Epoch')\n",
    "    plt.ylabel('Training Loss')\n",
    "    plt.legend()\n",
    "    plt.show()"
   ]
  },
  {
   "cell_type": "code",
   "execution_count": 6,
   "id": "1710915c-fe32-4f51-9865-6af986fdf1ce",
   "metadata": {},
   "outputs": [],
   "source": [
    "def evaluateModel(model, dataloader, labels):\n",
    "    model.eval()\n",
    "    predictions = []\n",
    "    losses = []\n",
    "    device = torch.device('cuda' if torch.cuda.is_available() else 'cpu')\n",
    "    \n",
    "    with torch.no_grad():\n",
    "        for batch in dataloader:\n",
    "            inputs, batch_labels = batch\n",
    "            inputs, batch_labels = inputs.to(device), batch_labels.to(device)\n",
    "            outputs = model(inputs, labels=batch_labels) \n",
    "            logits = outputs.logits\n",
    "            \n",
    "            predictions_batch = torch.argmax(logits, dim=1)\n",
    "            predictions.extend(predictions_batch.cpu().numpy())\n",
    "            losses.append(outputs.loss.item())\n",
    "\n",
    "    accuracy = accuracy_score(labels, predictions)\n",
    "    f1 = f1_score(labels, predictions, average='macro') \n",
    "    precision = precision_score(labels, predictions, average='macro') \n",
    "    recall = recall_score(labels, predictions, average='macro')\n",
    "    avg_loss = np.mean(losses)\n",
    "    conf_matrix = confusion_matrix(labels, predictions)\n",
    "    \n",
    "    print(f'Accuracy: {accuracy}')\n",
    "    print(f'F1 Score: {f1}')\n",
    "    print(f'Precision: {precision}')\n",
    "    print(f'Recall: {recall}')\n",
    "    print(f'Average Loss: {avg_loss}')\n",
    "    print('Confusion Matrix:')\n",
    "    print(conf_matrix)"
   ]
  },
  {
   "cell_type": "code",
   "execution_count": 10,
   "id": "b488eefe-4c90-4092-b3db-7b0ae430a889",
   "metadata": {},
   "outputs": [],
   "source": [
    "# csv_path = 'CsvFile/'\n",
    "csv_path = 'NewDatasets4.0/'\n",
    "# csv_path = 'Filter Datasets/'\n",
    "# df = pd.read_csv(csv_path+'memd_book.csv')\n",
    "# df3 = pd.read_csv(csv_path+'memd_hotel.csv')\n",
    "# df1 = pd.read_csv(csv_path+'memd_clothing.csv')\n",
    "# df2 = pd.read_csv(csv_path+'memd_laptop.csv')\n",
    "# df4 = pd.read_csv(csv_path+'memd_restaurant.csv')\n",
    "\n",
    "df = pd.read_csv('opinion_driven_labelling.csv')\n",
    "\n",
    "# merged_df = pd.concat([df, df1,df2,df3,df4], axis=0, ignore_index=True)\n",
    "\n",
    "# sentiment_mapping = {'NEG': 0, 'POS': 1, 'NEU': 2}\n",
    "# merged_df['sentiment'] = merged_df['sentiment'].map(sentiment_mapping)\n",
    "\n",
    "# print(merged_df['sentiment'].unique())\n",
    "\n",
    "train_df, test_df = train_test_split(df, test_size=0.2, random_state=42)\n",
    "\n",
    "train_sentences = train_df['raw_words'].values\n",
    "train_labels = train_df['subjectivity'].values\n",
    "\n",
    "test_sentences = test_df['raw_words'].values\n",
    "test_labels = test_df['subjectivity'].values\n",
    "\n",
    "# merged_df.to_csv('opinion_driven_labelling.csv', index=False)"
   ]
  },
  {
   "cell_type": "code",
   "execution_count": 11,
   "id": "8532ce3e",
   "metadata": {},
   "outputs": [
    {
     "name": "stdout",
     "output_type": "stream",
     "text": [
      "subjectivity\n",
      "0    12148\n",
      "1     1904\n",
      "Name: count, dtype: int64\n",
      "subjectivity\n",
      "0    3029\n",
      "1     485\n",
      "Name: count, dtype: int64\n"
     ]
    }
   ],
   "source": [
    "# print(merged_df['subjectivity'].value_counts())\n",
    "print(train_df['subjectivity'].value_counts())\n",
    "print(test_df['subjectivity'].value_counts())\n",
    "\n",
    "# print(df['subjectivity'].value_counts())\n",
    "# print(df1['subjectivity'].value_counts())"
   ]
  },
  {
   "cell_type": "code",
   "execution_count": 12,
   "id": "28477646",
   "metadata": {},
   "outputs": [],
   "source": [
    "train_dataloader = convertDataloader(train_sentences, train_labels, shuffle=True)\n",
    "test_dataloader = convertDataloader(test_sentences, test_labels, shuffle=False)\n"
   ]
  },
  {
   "cell_type": "code",
   "execution_count": 13,
   "id": "b4c3db93",
   "metadata": {},
   "outputs": [
    {
     "name": "stderr",
     "output_type": "stream",
     "text": [
      "Some weights of BertForSequenceClassification were not initialized from the model checkpoint at bert-base-uncased and are newly initialized: ['classifier.bias', 'classifier.weight']\n",
      "You should probably TRAIN this model on a down-stream task to be able to use it for predictions and inference.\n"
     ]
    }
   ],
   "source": [
    "model = BertForSequenceClassification.from_pretrained('bert-base-uncased', num_labels=2)\n"
   ]
  },
  {
   "cell_type": "code",
   "execution_count": 14,
   "id": "b17ed56e",
   "metadata": {},
   "outputs": [
    {
     "name": "stderr",
     "output_type": "stream",
     "text": [
      "C:\\Users\\Zychia\\AppData\\Local\\anaconda3\\envs\\FYP\\Lib\\site-packages\\transformers\\optimization.py:429: FutureWarning: This implementation of AdamW is deprecated and will be removed in a future version. Use the PyTorch implementation torch.optim.AdamW instead, or set `no_deprecation_warning=True` to disable this warning\n",
      "  warnings.warn(\n",
      "We strongly recommend passing in an `attention_mask` since your input_ids may be padded. See https://huggingface.co/docs/transformers/troubleshooting#incorrect-output-when-padding-tokens-arent-masked.\n"
     ]
    },
    {
     "name": "stdout",
     "output_type": "stream",
     "text": [
      "Epoch 1/20, Avg. Training Loss: 0.29800453121689235\n",
      "Epoch 2/20, Avg. Training Loss: 0.18139545898884535\n",
      "Epoch 3/20, Avg. Training Loss: 0.13029662404548037\n",
      "Epoch 4/20, Avg. Training Loss: 0.08234838334504854\n",
      "Epoch 5/20, Avg. Training Loss: 0.04874667844481089\n",
      "Epoch 6/20, Avg. Training Loss: 0.03339725271904503\n",
      "Epoch 7/20, Avg. Training Loss: 0.021500551818594844\n",
      "Epoch 8/20, Avg. Training Loss: 0.016078277430708773\n",
      "Epoch 9/20, Avg. Training Loss: 0.016831761319454845\n",
      "Epoch 10/20, Avg. Training Loss: 0.013358756858029995\n",
      "Epoch 11/20, Avg. Training Loss: 0.0115682453480655\n",
      "Epoch 12/20, Avg. Training Loss: 0.011537715045745823\n",
      "Epoch 13/20, Avg. Training Loss: 0.0062960597728140945\n",
      "Epoch 14/20, Avg. Training Loss: 0.01319355073593959\n",
      "Epoch 15/20, Avg. Training Loss: 0.006552757904864847\n",
      "Epoch 16/20, Avg. Training Loss: 0.006278734578782777\n",
      "Epoch 17/20, Avg. Training Loss: 0.0025231919959465316\n",
      "Epoch 18/20, Avg. Training Loss: 0.006397540454881064\n",
      "Epoch 19/20, Avg. Training Loss: 0.007410676786077436\n",
      "Epoch 20/20, Avg. Training Loss: 0.004566513478841278\n"
     ]
    },
    {
     "data": {
      "image/png": "[encoded data removed]",
      "text/plain": [
       "<Figure size 640x480 with 1 Axes>"
      ]
     },
     "metadata": {},
     "output_type": "display_data"
    }
   ],
   "source": [
    "trainModel(model, train_dataloader)\n"
   ]
  },
  {
   "cell_type": "code",
   "execution_count": 15,
   "id": "2fbc4003",
   "metadata": {},
   "outputs": [
    {
     "name": "stdout",
     "output_type": "stream",
     "text": [
      "Accuracy: 0.937677859988617\n",
      "F1 Score: 0.8550665026676212\n",
      "Precision: 0.9007304083099412\n",
      "Recall: 0.8218489311228571\n",
      "Average Loss: 0.41571612302743066\n",
      "Confusion Matrix:\n",
      "[[2974   55]\n",
      " [ 164  321]]\n"
     ]
    }
   ],
   "source": [
    "evaluateModel(model, test_dataloader, test_labels)"
   ]
  }
 ],
 "metadata": {
  "kernelspec": {
   "display_name": "Python 3 (ipykernel)",
   "language": "python",
   "name": "python3"
  },
  "language_info": {
   "codemirror_mode": {
    "name": "ipython",
    "version": 3
   },
   "file_extension": ".py",
   "mimetype": "text/x-python",
   "name": "python",
   "nbconvert_exporter": "python",
   "pygments_lexer": "ipython3",
   "version": "3.11.7"
  }
 },
 "nbformat": 4,
 "nbformat_minor": 5
}
