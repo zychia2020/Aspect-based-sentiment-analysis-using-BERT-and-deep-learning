{
 "cells": [
  {
   "cell_type": "code",
   "execution_count": 9,
   "id": "d16347a2-8af3-4321-b19f-e5f8e06c348d",
   "metadata": {},
   "outputs": [],
   "source": [
    "import pandas as pd\n",
    "\n",
    "# Load the dataset\n",
    "df = pd.read_csv('grouped_memd_restaurant.csv')\n",
    "\n",
    "# Replace null values in 'opinion' column with \"NULL\"\n",
    "# df['opinion'].fillna(\"NULL\", inplace=True)\n",
    "\n",
    "# Set subjectivity based on the condition\n",
    "# if opinion is null, set as objective (1)\n",
    "df['subjectivity'] = df.apply(lambda row: 1 if pd.isnull(row['opinion']) else 0, axis=1)\n",
    "\n",
    "# Optionally, if you want to save the modified DataFrame back to a CSV file\n",
    "df.to_csv('paperLabelling_restaurant.csv', index=False)"
   ]
  },
  {
   "cell_type": "code",
   "execution_count": 10,
   "id": "60b747cd-cad6-4711-a9d6-e34054c999b9",
   "metadata": {},
   "outputs": [
    {
     "data": {
      "text/plain": [
       "subjectivity\n",
       "0    6105\n",
       "1    1125\n",
       "Name: count, dtype: int64"
      ]
     },
     "metadata": {},
     "output_type": "display_data"
    }
   ],
   "source": [
    "display(df['subjectivity'].value_counts())"
   ]
  },
  {
   "cell_type": "code",
   "execution_count": null,
   "id": "c639142f-0749-4605-9bc5-303b71ffdaf4",
   "metadata": {},
   "outputs": [],
   "source": []
  }
 ],
 "metadata": {
  "kernelspec": {
   "display_name": "Python 3 (ipykernel)",
   "language": "python",
   "name": "python3"
  },
  "language_info": {
   "codemirror_mode": {
    "name": "ipython",
    "version": 3
   },
   "file_extension": ".py",
   "mimetype": "text/x-python",
   "name": "python",
   "nbconvert_exporter": "python",
   "pygments_lexer": "ipython3",
   "version": "3.11.8"
  }
 },
 "nbformat": 4,
 "nbformat_minor": 5
}
